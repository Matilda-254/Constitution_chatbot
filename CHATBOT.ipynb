{
 "cells": [
  {
   "cell_type": "code",
   "execution_count": 12,
   "id": "e47a08dc",
   "metadata": {},
   "outputs": [
    {
     "data": {
      "text/plain": [
       "True"
      ]
     },
     "execution_count": 12,
     "metadata": {},
     "output_type": "execute_result"
    }
   ],
   "source": [
    "from dotenv import load_dotenv\n",
    "import os\n",
    "from mistralai import Mistral\n",
    "import requests\n",
    "import numpy as np\n",
    "import faiss # vector database\n",
    "load_dotenv()"
   ]
  },
  {
   "cell_type": "code",
   "execution_count": 5,
   "id": "2e19529f",
   "metadata": {},
   "outputs": [],
   "source": [
    "url = \"https://www.parliament.go.ke/sites/default/files/2017-05/The_Constitution_of_Kenya_2010.pdf\"\n",
    "response = requests.get(url)\n",
    "text = response.text\n",
    "# print(text)"
   ]
  },
  {
   "cell_type": "code",
   "execution_count": 7,
   "id": "0b53904e",
   "metadata": {},
   "outputs": [
    {
     "data": {
      "text/plain": [
       "543"
      ]
     },
     "execution_count": 7,
     "metadata": {},
     "output_type": "execute_result"
    }
   ],
   "source": [
    "chunk_size = 3000 # split text into chunks\n",
    "chunks = [text[i:i+chunk_size] for i in range (0, len(text), chunk_size)]\n",
    "len(chunks)"
   ]
  },
  {
   "cell_type": "code",
   "execution_count": 13,
   "id": "1f5b7eb5",
   "metadata": {},
   "outputs": [],
   "source": [
    "api_key = os.environ[\"mistral_api_key\"]\n",
    "client = Mistral(api_key = api_key)"
   ]
  },
  {
   "cell_type": "code",
   "execution_count": 14,
   "id": "7b770193",
   "metadata": {},
   "outputs": [],
   "source": [
    "def get_single_embedding(text):\n",
    "    response = client.embeddings.create(\n",
    "        model=\"mistral-embed\",\n",
    "        inputs=[text]  # must be a list\n",
    "    )\n",
    "    return response.data[0].embedding"
   ]
  },
  {
   "cell_type": "code",
   "execution_count": 21,
   "id": "01fb8120",
   "metadata": {},
   "outputs": [],
   "source": [
    "import time\n",
    "\n",
    "def get_embeddings_in_batches(chunks, max_batch_size=50, max_retries=3, sleep_time=2):\n",
    "    all_embeddings = []\n",
    "\n",
    "    for i in range(0, len(chunks), max_batch_size):\n",
    "        batch = chunks[i:i+max_batch_size]\n",
    "\n",
    "        for attempt in range(max_retries):\n",
    "            try:\n",
    "                response = client.embeddings.create(\n",
    "                    model=\"mistral-embed\",\n",
    "                    inputs=batch\n",
    "                )\n",
    "                batch_embeddings = [item.embedding for item in response.data]\n",
    "                all_embeddings.extend(batch_embeddings)\n",
    "                break  # success → break retry loop\n",
    "            except Exception as e:\n",
    "                if \"rate limit\" in str(e).lower():\n",
    "                    print(f\"Rate limit hit. Sleeping {sleep_time}s...\")\n",
    "                    time.sleep(sleep_time)\n",
    "                    sleep_time *= 2  # exponential backoff\n",
    "                else:\n",
    "                    raise\n",
    "\n",
    "    return all_embeddings"
   ]
  },
  {
   "cell_type": "code",
   "execution_count": 23,
   "id": "d41a5ee3",
   "metadata": {},
   "outputs": [],
   "source": [
    "# 1. Create embeddings for your document chunks\n",
    "text_embeddings = get_embeddings_in_batches(chunks, max_batch_size=10)\n",
    "text_embeddings = np.array(text_embeddings, dtype=\"float32\")\n",
    "# 2. Build FAISS index\n",
    "d = text_embeddings.shape[1]   # embedding dimension\n",
    "index = faiss.IndexFlatL2(d)   # L2 distance index\n",
    "index.add(text_embeddings)     # add all chunk embeddings"
   ]
  },
  {
   "cell_type": "code",
   "execution_count": 24,
   "id": "a96d2cbf",
   "metadata": {},
   "outputs": [],
   "source": [
    "# Create embedding for the query\n",
    "question = \"What are the Principles of land policy in the constitution of Kenya\"\n",
    "question_embeddings = get_single_embedding(question)\n",
    "# Convert to numpy and reshape\n",
    "question_embeddings = np.array(question_embeddings, dtype=\"float32\").reshape(1, -1)\n",
    "# Search top-k similar chunks\n",
    "\n",
    "D, I = index.search(question_embeddings, k=2)\n",
    "# Retrieve the corresponding chunks\n",
    "retrieved_chunks = [chunks[i] for i in I[0]]"
   ]
  },
  {
   "cell_type": "code",
   "execution_count": null,
   "id": "5d503a3b",
   "metadata": {},
   "outputs": [],
   "source": []
  },
  {
   "cell_type": "code",
   "execution_count": 25,
   "id": "ddd67099",
   "metadata": {},
   "outputs": [],
   "source": [
    "# Prompt Engineering\n",
    "prompt = f\"\"\"\"\n",
    "The context information is as below:\n",
    "{retrieved_chunks}\n",
    "Given the context information and without prior knowledge answer the query\n",
    "query: {question}\n",
    "answer:\n",
    "\"\"\""
   ]
  },
  {
   "cell_type": "code",
   "execution_count": 26,
   "id": "b51fba52",
   "metadata": {},
   "outputs": [],
   "source": [
    "def run_mistral(user_message, model = \"mistral-large-latest\"):\n",
    "    messages = [\n",
    "        {\n",
    "            \"role\": \"user\",\n",
    "            \"content\": user_message\n",
    "        }\n",
    "    ]\n",
    "    chat_response = client.chat.complete(model=model, messages=messages)\n",
    "\n",
    "    return chat_response.choices[0].message.content"
   ]
  },
  {
   "cell_type": "code",
   "execution_count": 27,
   "id": "9c6481ea",
   "metadata": {},
   "outputs": [
    {
     "name": "stdout",
     "output_type": "stream",
     "text": [
      "The provided context appears to be corrupted or encoded in an unreadable format (likely binary or garbled text), making it impossible to extract meaningful information about the **Principles of Land Policy in the Constitution of Kenya**.\n",
      "\n",
      "However, based on **general knowledge** (not derived from the given context), here are the key principles of land policy as outlined in **Article 60 of the Constitution of Kenya (2010)**:\n",
      "\n",
      "### **Principles of Land Policy in Kenya (Article 60)**\n",
      "1. **Equitable Access** – Land should be held, used, and managed in a way that ensures equitable access for all Kenyans.\n",
      "2. **Security of Land Rights** – Land rights (including customary, communal, and private ownership) must be protected and secured.\n",
      "3. **Sustainable and Productive Use** – Land should be used sustainably to support present and future generations.\n",
      "4. **Transparent and Cost-Effective Administration** – Land administration (allocation, registration, and transfer) must be transparent, efficient, and affordable.\n",
      "5. **Sound Conservation and Protection** – Land must be managed to prevent degradation, pollution, or ecological harm.\n",
      "6. **Elimination of Gender Discrimination** – Laws and policies must ensure women’s equal rights to land ownership and control.\n",
      "7. **Encouragement of Community Land** – Recognition and protection of community land rights, especially for marginalized groups.\n",
      "8. **Public Land for Public Purposes** – Public land should be used for the benefit of all citizens, not private gain.\n",
      "9. **Compensation for Compulsory Acquisition** – Fair and prompt compensation must be provided when land is acquired for public use.\n",
      "10. **Participation in Land Governance** – Communities and individuals should participate in decisions affecting their land rights.\n",
      "\n",
      "For precise legal interpretation, refer to the **Constitution of Kenya (2010), Article 60**, and supporting laws like the **Land Act (2012)** and **Land Registration Act (2012)**.\n",
      "\n",
      "Would you like a deeper breakdown of any specific principle?\n"
     ]
    }
   ],
   "source": [
    "print(run_mistral(prompt))"
   ]
  },
  {
   "cell_type": "code",
   "execution_count": 28,
   "id": "72019761",
   "metadata": {},
   "outputs": [],
   "source": [
    "# The workflow that makes it easier to ask subsequent questions with just a function\n",
    "def ask_question(question):\n",
    "    # embed\n",
    "    q_emb = get_single_embedding(question)\n",
    "    q_emb = np.array(q_emb, dtype=\"float32\").reshape(1, -1)\n",
    "    # search\n",
    "    D, I = index.search(q_emb, k=2)\n",
    "    retrieved_chunks = [chunks[i] for i in I[0]]\n",
    "    # build prompt\n",
    "    context = \"\\n\".join(retrieved_chunks)\n",
    "    prompt = f\"Answer the question using the context below:\\n\\nContext:\\n{context}\\n\\nQuestion: {question}\\nAnswer:\"\n",
    "    # run model\n",
    "    return run_mistral(prompt)"
   ]
  },
  {
   "cell_type": "code",
   "execution_count": 29,
   "id": "4462b6fb",
   "metadata": {},
   "outputs": [
    {
     "name": "stdout",
     "output_type": "stream",
     "text": [
      "The provided context appears to be corrupted or unreadable, so I cannot extract meaningful information from it. However, I can answer your question about the **role of the Judiciary in Kenya** based on general knowledge and Kenya's legal framework:\n",
      "\n",
      "### **Role of the Judiciary in Kenya**\n",
      "The Judiciary in Kenya is an independent arm of government established under **Article 159 of the Constitution of Kenya (2010)**. Its primary roles include:\n",
      "\n",
      "1. **Administration of Justice**\n",
      "   - Interpreting and applying the law fairly and impartially.\n",
      "   - Resolving disputes between individuals, institutions, and the government.\n",
      "\n",
      "2. **Upholding the Constitution**\n",
      "   - Ensuring that all laws, actions, and policies comply with the **Constitution of Kenya (2010)**.\n",
      "   - Protecting fundamental rights and freedoms (e.g., through **constitutional petitions**).\n",
      "\n",
      "3. **Judicial Review**\n",
      "   - Reviewing the constitutionality of laws and executive actions.\n",
      "   - Declaring laws or government actions **unconstitutional** if they violate the Constitution.\n",
      "\n",
      "4. **Dispute Resolution**\n",
      "   - Handling civil, criminal, commercial, and family disputes.\n",
      "   - Providing alternative dispute resolution mechanisms (e.g., mediation and arbitration).\n",
      "\n",
      "5. **Protection of Human Rights**\n",
      "   - Safeguarding citizens' rights against abuse by individuals or the state.\n",
      "   - Enforcing **bills of rights** (Chapter 4 of the Constitution).\n",
      "\n",
      "6. **Supervision of Lower Courts & Tribunals**\n",
      "   - Overseeing the operations of **magistrates' courts, Kadhi courts, and specialized tribunals** (e.g., Environment and Land Court, Employment and Labour Relations Court).\n",
      "\n",
      "7. **Promoting Access to Justice**\n",
      "   - Ensuring justice is accessible to all, including marginalized groups.\n",
      "   - Implementing **legal aid programs** and simplifying court procedures.\n",
      "\n",
      "8. **Judicial Independence & Accountability**\n",
      "   - Operating independently from the **Executive and Legislature** to prevent interference.\n",
      "   - Holding judges and judicial officers accountable through the **Judicial Service Commission (JSC)**.\n",
      "\n",
      "### **Structure of Kenya’s Judiciary**\n",
      "- **Supreme Court** (Highest court, handles constitutional matters and presidential election petitions).\n",
      "- **Court of Appeal** (Hears appeals from the High Court).\n",
      "- **High Court** (Handles serious criminal and civil cases, constitutional interpretations).\n",
      "- **Subordinate Courts** (Magistrates’ Courts, Kadhi Courts, and specialized courts).\n",
      "\n",
      "Would you like details on a specific aspect of Kenya’s Judiciary?\n"
     ]
    }
   ],
   "source": [
    "print(ask_question(\"What is the role of the Judiciary in Kenya\"))"
   ]
  },
  {
   "cell_type": "code",
   "execution_count": 30,
   "id": "70768c21",
   "metadata": {},
   "outputs": [
    {
     "name": "stdout",
     "output_type": "stream",
     "text": [
      "The provided context is a **fragment of a PDF file's internal structure** (showing page objects with metadata like `MediaBox`, `Resources`, and `Group` for transparency). It does **not** contain any textual content from the **Road Traffic Act of Kenya** or the **Constitution of Kenya**.\n",
      "\n",
      "To answer your question accurately, here’s what the **Road Traffic Act (Cap. 403)** and the **Constitution of Kenya (2010)** state regarding road traffic:\n",
      "\n",
      "### **1. Road Traffic Act (Cap. 403) – Key Provisions**\n",
      "The **Road Traffic Act** is the primary legislation governing road use, licensing, and traffic offenses in Kenya. Some key provisions include:\n",
      "- **Licensing of Drivers & Vehicles**: Requires valid driving licenses and vehicle registration.\n",
      "- **Traffic Rules**: Covers speed limits, overtaking, pedestrian rights, and road signs.\n",
      "- **Offenses & Penalties**: Includes penalties for drunk driving, reckless driving, and failure to comply with traffic rules.\n",
      "- **Insurance Requirements**: Mandates third-party insurance for all motor vehicles.\n",
      "- **Public Service Vehicles (PSVs)**: Regulates matatus, buses, and taxis (e.g., seating capacity, safety standards).\n",
      "- **Enforcement**: Empowers police and **NTSA (National Transport and Safety Authority)** to enforce traffic laws.\n",
      "\n",
      "### **2. Constitution of Kenya (2010) – Relevant Articles**\n",
      "While the **Constitution** does not directly regulate traffic, it provides a framework for legislation and rights:\n",
      "- **Article 40 (Property Rights)**: Protects private vehicle ownership but allows regulation in the public interest.\n",
      "- **Article 43 (Economic & Social Rights)**: Includes the right to **accessible and adequate transport** (indirectly influencing traffic policies).\n",
      "- **Article 53 (Children’s Rights)**: Requires protection for child pedestrians and passengers.\n",
      "- **Article 238 (National Security)**: Traffic laws may be enforced under public order and safety provisions.\n",
      "- **Devolution (Article 186-191)**: County governments manage some local roads and transport regulations.\n",
      "\n",
      "### **Where to Find the Full Text?**\n",
      "- **Road Traffic Act (Cap. 403)**: Available on [Kenya Law Reports](https://www.kenyalaw.org/) or the **NTSA website**.\n",
      "- **Constitution of Kenya (2010)**: Full text at [Constitution of Kenya](https://www.constitution.net/constitution/kenya).\n",
      "\n",
      "Would you like a summary of a **specific section** of the Road Traffic Act?\n"
     ]
    }
   ],
   "source": [
    "print(ask_question(\"What does the Road Traffic Act state in the constitution of Kenya?\"))"
   ]
  },
  {
   "cell_type": "code",
   "execution_count": 31,
   "id": "eddd89c1",
   "metadata": {},
   "outputs": [
    {
     "name": "stdout",
     "output_type": "stream",
     "text": [
      "The provided context appears to be corrupted or unreadable, so I cannot extract any meaningful information about Kenya's laws on the legal drinking age.\n",
      "\n",
      "However, based on **general knowledge**:\n",
      "In **Kenya**, the legal drinking age is **18 years old**. This is outlined in the **Alcoholic Drinks Control Act (2010)**, which prohibits the sale or supply of alcohol to anyone under 18. Some counties may have stricter regulations, such as banning alcohol sales near schools or limiting operating hours for bars.\n",
      "\n",
      "For official legal advice, consult Kenya’s **Alcoholic Drinks Control Act** or local county bylaws.\n"
     ]
    }
   ],
   "source": [
    "print(ask_question(\"What does the law of Kenya say about the legal drinking age?\"))"
   ]
  },
  {
   "cell_type": "code",
   "execution_count": 32,
   "id": "72d56814",
   "metadata": {},
   "outputs": [
    {
     "name": "stdout",
     "output_type": "stream",
     "text": [
      "The provided context appears to be corrupted or unreadable, so I cannot extract meaningful information about **Kenya's laws on children's rights** from it. However, I can summarize the key legal protections for children in Kenya based on general knowledge:\n",
      "\n",
      "### **Children’s Rights in Kenya (Key Legal Frameworks)**\n",
      "Kenya has robust legal protections for children, primarily governed by:\n",
      "\n",
      "1. **The Constitution of Kenya (2010)**\n",
      "   - **Article 53** guarantees children’s rights, including:\n",
      "     - The right to a name and nationality.\n",
      "     - Free and compulsory basic education.\n",
      "     - Basic nutrition, shelter, and healthcare.\n",
      "     - Protection from abuse, neglect, harmful cultural practices, and exploitation.\n",
      "     - Protection from child labor and early marriage.\n",
      "     - Access to parental care and protection.\n",
      "\n",
      "2. **Children’s Act (2022)**\n",
      "   - Replaced the **Children’s Act (2001)** and aligns with the Constitution and international treaties (e.g., the **UN Convention on the Rights of the Child**).\n",
      "   - Defines a child as anyone under **18 years**.\n",
      "   - Prohibits child labor, trafficking, and harmful practices (e.g., FGM, early marriage).\n",
      "   - Establishes **Children’s Courts** and **Child Protection Units** for legal safeguards.\n",
      "   - Mandates **free birth registration** for all children.\n",
      "\n",
      "3. **Sexual Offences Act (2006)**\n",
      "   - Criminalizes **defilement** (sexual abuse of minors) with severe penalties.\n",
      "   - Protects children from sexual exploitation, including online abuse.\n",
      "\n",
      "4. **Basic Education Act (2013)**\n",
      "   - Ensures **free and compulsory primary and secondary education** (up to age 18).\n",
      "   - Prohibits expulsion of pregnant girls from school (following a **2020 court ruling**).\n",
      "\n",
      "5. **Employment Act (2007) & Labour Laws**\n",
      "   - Prohibits employment of children under **13 years** (light work allowed for 13–15-year-olds under strict conditions).\n",
      "   - Bans hazardous work for anyone under **18**.\n",
      "\n",
      "6. **Female Genital Mutilation (FGM) Act (2011)**\n",
      "   - Criminalizes FGM, with penalties for offenders (including parents and practitioners).\n",
      "\n",
      "7. **Marriage Act (2014)**\n",
      "   - Sets the **minimum marriage age at 18**, prohibiting child marriage.\n",
      "\n",
      "8. **Child Protection Policy & National Council for Children’s Services (NCCS)**\n",
      "   - Oversees implementation of child rights policies.\n",
      "   - Runs **child helplines** (e.g., **116** for reporting abuse).\n",
      "\n",
      "### **International Treaties**\n",
      "Kenya is a signatory to:\n",
      "- **UN Convention on the Rights of the Child (CRC)**.\n",
      "- **African Charter on the Rights and Welfare of the Child (ACRWC)**.\n",
      "\n",
      "### **Enforcement Challenges**\n",
      "Despite strong laws, challenges remain, including:\n",
      "- **Child labor** in informal sectors (e.g., agriculture, domestic work).\n",
      "- **Early marriages** in some communities.\n",
      "- **Street children** lacking access to education and healthcare.\n",
      "- **Slow justice** in child abuse cases.\n",
      "\n",
      "### **Where to Report Violations**\n",
      "- **Police (Child Protection Units)**.\n",
      "- **Department of Children’s Services** (under the Ministry of Labour and Social Protection).\n",
      "- **Childline Kenya (Helpline: 116)**.\n",
      "- **FIDA Kenya** (for legal aid).\n",
      "\n",
      "For official legal text, refer to:\n",
      "- **[Kenya Law Reports](https://www.kenyalaw.org/)**\n",
      "- **[National Council for Children’s Services (NCCS)](https://www.children.go.ke/)**\n",
      "\n",
      "Would you like details on a specific aspect (e.g., education, adoption, or juvenile justice)?\n"
     ]
    }
   ],
   "source": [
    "print(ask_question(\"What does the law of Kenya say about children's rights\"))"
   ]
  },
  {
   "cell_type": "code",
   "execution_count": 33,
   "id": "e96589fe",
   "metadata": {},
   "outputs": [
    {
     "name": "stdout",
     "output_type": "stream",
     "text": [
      "The context you provided is a snippet of a **PDF file structure** (likely a table of contents or page objects), not legal text. It does **not** contain any information about Kenya's **Sexual Offences Act**.\n",
      "\n",
      "For your question about Kenya's **Sexual Offences Act**, here’s a summary of key provisions under the **Sexual Offences Act (No. 3 of 2006)** and related laws:\n",
      "\n",
      "### **Key Provisions of Kenya’s Sexual Offences Act (2006)**\n",
      "1. **Definition of Sexual Offences**\n",
      "   - The Act defines offences such as **rape, defilement, sexual assault, incest, child pornography, sexual harassment, and indecent acts**.\n",
      "   - **Rape** (Section 3) is defined as intentional, unlawful sexual penetration without consent.\n",
      "   - **Defilement** (Section 8) involves sexual acts with a minor (under 18), with stricter penalties for younger victims.\n",
      "\n",
      "2. **Consent**\n",
      "   - Consent must be **freely given** and cannot be assumed from silence or submission.\n",
      "   - Consent is **invalid** if obtained through threats, coercion, or deception.\n",
      "\n",
      "3. **Penalties**\n",
      "   - **Rape**: Life imprisonment (minimum 10 years).\n",
      "   - **Defilement**:\n",
      "     - **Under 11 years**: Life imprisonment.\n",
      "     - **11–15 years**: 20 years imprisonment.\n",
      "     - **16–17 years**: 15 years imprisonment.\n",
      "   - **Sexual Harassment**: Fine or imprisonment up to 3 years.\n",
      "   - **Child Pornography**: Up to 20 years imprisonment.\n",
      "\n",
      "4. **Protection of Victims**\n",
      "   - Victims have the right to **medical treatment, legal aid, and protection from intimidation**.\n",
      "   - Identity protection (e.g., in-media reporting) is mandated.\n",
      "\n",
      "5. **Mandatory Reporting**\n",
      "   - Any person aware of a sexual offence against a child **must report it** to authorities (failure to do so is an offence).\n",
      "\n",
      "6. **HIV/AIDS Provisions**\n",
      "   - Intentionally transmitting HIV through sexual offences is an **aggravating factor** leading to harsher penalties.\n",
      "\n",
      "7. **Recent Amendments (2023–2024)**\n",
      "   - The **Children Act (2022)** and **Prohibition of Female Genital Mutilation Act (2011)** complement the Sexual Offences Act.\n",
      "   - **Digital Sexual Offences**: Cyber harassment and revenge porn are criminalized under the **Computer Misuse and Cybercrimes Act (2018)**.\n",
      "\n",
      "### **Where to Find the Full Law?**\n",
      "- **Official Source**: [Kenya Law Reports](https://www.kenyalaw.org/) (Search for **\"Sexual Offences Act, 2006\"**).\n",
      "- **PDF Download**: Available on the **National Council for Law Reporting (NCLR)** website.\n",
      "\n",
      "Would you like details on a **specific section** (e.g., defilement, rape, or cybercrimes)? Let me know how I can refine the answer!\n"
     ]
    }
   ],
   "source": [
    "print(ask_question(\"What does the law of Kenya say sexual offenders Act?\"))"
   ]
  }
 ],
 "metadata": {
  "kernelspec": {
   "display_name": "myenv",
   "language": "python",
   "name": "python3"
  },
  "language_info": {
   "codemirror_mode": {
    "name": "ipython",
    "version": 3
   },
   "file_extension": ".py",
   "mimetype": "text/x-python",
   "name": "python",
   "nbconvert_exporter": "python",
   "pygments_lexer": "ipython3",
   "version": "3.12.10"
  }
 },
 "nbformat": 4,
 "nbformat_minor": 5
}
